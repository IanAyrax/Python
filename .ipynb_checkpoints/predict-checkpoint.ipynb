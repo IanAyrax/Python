{
 "cells": [
  {
   "cell_type": "code",
   "execution_count": 1,
   "id": "complex-catalog",
   "metadata": {},
   "outputs": [],
   "source": [
    "from joblib import load\n",
    "\n",
    "clf = load('result_old.joblib') "
   ]
  },
  {
   "cell_type": "code",
   "execution_count": 2,
   "id": "laden-privacy",
   "metadata": {},
   "outputs": [],
   "source": [
    "result = clf.predict([[75]])"
   ]
  },
  {
   "cell_type": "code",
   "execution_count": 3,
   "id": "continued-aaron",
   "metadata": {},
   "outputs": [
    {
     "name": "stdout",
     "output_type": "stream",
     "text": [
      "1\n"
     ]
    }
   ],
   "source": [
    "result = result[0]\n",
    "\n",
    "print(result)"
   ]
  },
  {
   "cell_type": "code",
   "execution_count": null,
   "id": "advised-clause",
   "metadata": {},
   "outputs": [],
   "source": []
  }
 ],
 "metadata": {
  "kernelspec": {
   "display_name": "Python 3",
   "language": "python",
   "name": "python3"
  },
  "language_info": {
   "codemirror_mode": {
    "name": "ipython",
    "version": 3
   },
   "file_extension": ".py",
   "mimetype": "text/x-python",
   "name": "python",
   "nbconvert_exporter": "python",
   "pygments_lexer": "ipython3",
   "version": "3.7.9"
  }
 },
 "nbformat": 4,
 "nbformat_minor": 5
}
