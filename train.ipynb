{
 "cells": [
  {
   "cell_type": "code",
   "execution_count": 1,
   "id": "relevant-fluid",
   "metadata": {},
   "outputs": [
    {
     "data": {
      "text/html": [
       "<div>\n",
       "<style scoped>\n",
       "    .dataframe tbody tr th:only-of-type {\n",
       "        vertical-align: middle;\n",
       "    }\n",
       "\n",
       "    .dataframe tbody tr th {\n",
       "        vertical-align: top;\n",
       "    }\n",
       "\n",
       "    .dataframe thead th {\n",
       "        text-align: right;\n",
       "    }\n",
       "</style>\n",
       "<table border=\"1\" class=\"dataframe\">\n",
       "  <thead>\n",
       "    <tr style=\"text-align: right;\">\n",
       "      <th></th>\n",
       "      <th>label</th>\n",
       "      <th>value</th>\n",
       "    </tr>\n",
       "  </thead>\n",
       "  <tbody>\n",
       "    <tr>\n",
       "      <th>0</th>\n",
       "      <td>tinggi</td>\n",
       "      <td>136.0</td>\n",
       "    </tr>\n",
       "    <tr>\n",
       "      <th>1</th>\n",
       "      <td>tinggi</td>\n",
       "      <td>161.0</td>\n",
       "    </tr>\n",
       "    <tr>\n",
       "      <th>2</th>\n",
       "      <td>tinggi</td>\n",
       "      <td>133.0</td>\n",
       "    </tr>\n",
       "    <tr>\n",
       "      <th>3</th>\n",
       "      <td>tinggi</td>\n",
       "      <td>163.0</td>\n",
       "    </tr>\n",
       "    <tr>\n",
       "      <th>4</th>\n",
       "      <td>tinggi</td>\n",
       "      <td>155.0</td>\n",
       "    </tr>\n",
       "    <tr>\n",
       "      <th>...</th>\n",
       "      <td>...</td>\n",
       "      <td>...</td>\n",
       "    </tr>\n",
       "    <tr>\n",
       "      <th>63</th>\n",
       "      <td>normal</td>\n",
       "      <td>80.0</td>\n",
       "    </tr>\n",
       "    <tr>\n",
       "      <th>64</th>\n",
       "      <td>normal</td>\n",
       "      <td>81.0</td>\n",
       "    </tr>\n",
       "    <tr>\n",
       "      <th>65</th>\n",
       "      <td>normal</td>\n",
       "      <td>70.0</td>\n",
       "    </tr>\n",
       "    <tr>\n",
       "      <th>66</th>\n",
       "      <td>normal</td>\n",
       "      <td>57.0</td>\n",
       "    </tr>\n",
       "    <tr>\n",
       "      <th>67</th>\n",
       "      <td>normal</td>\n",
       "      <td>69.0</td>\n",
       "    </tr>\n",
       "  </tbody>\n",
       "</table>\n",
       "<p>68 rows × 2 columns</p>\n",
       "</div>"
      ],
      "text/plain": [
       "     label  value\n",
       "0   tinggi  136.0\n",
       "1   tinggi  161.0\n",
       "2   tinggi  133.0\n",
       "3   tinggi  163.0\n",
       "4   tinggi  155.0\n",
       "..     ...    ...\n",
       "63  normal   80.0\n",
       "64  normal   81.0\n",
       "65  normal   70.0\n",
       "66  normal   57.0\n",
       "67  normal   69.0\n",
       "\n",
       "[68 rows x 2 columns]"
      ]
     },
     "execution_count": 1,
     "metadata": {},
     "output_type": "execute_result"
    }
   ],
   "source": [
    "import pandas as pd\n",
    "\n",
    "dataset = pd.read_csv(\"result.csv\")\n",
    "\n",
    "dataset"
   ]
  },
  {
   "cell_type": "code",
   "execution_count": 2,
   "id": "inner-helping",
   "metadata": {},
   "outputs": [
    {
     "name": "stdout",
     "output_type": "stream",
     "text": [
      "Index(['label', 'value'], dtype='object')\n"
     ]
    }
   ],
   "source": [
    "print(dataset.columns)"
   ]
  },
  {
   "cell_type": "code",
   "execution_count": 3,
   "id": "accessible-channel",
   "metadata": {},
   "outputs": [
    {
     "name": "stdout",
     "output_type": "stream",
     "text": [
      "[0, 0, 0, 0, 0, 0, 0, 0, 0, 0, 0, 0, 0, 0, 1, 1, 1, 1, 1, 1, 1, 1, 1, 1, 1, 1, 1, 1, 1, 1, 1, 1, 1, 1, 1, 1, 1, 1, 1, 1, 1, 1, 2, 2, 2, 2, 2, 2, 2, 2, 2, 2, 2, 2, 2, 2, 2, 2, 2, 2, 2, 2, 2, 2, 2, 2, 2, 2]\n",
      "[[136.]\n",
      " [161.]\n",
      " [133.]\n",
      " [163.]\n",
      " [155.]\n",
      " [121.]\n",
      " [117.]\n",
      " [157.]\n",
      " [167.]\n",
      " [128.]\n",
      " [164.]\n",
      " [163.]\n",
      " [160.]\n",
      " [ 90.]\n",
      " [ 76.]\n",
      " [116.]\n",
      " [109.]\n",
      " [ 88.]\n",
      " [102.]\n",
      " [100.]\n",
      " [114.]\n",
      " [ 86.]\n",
      " [ 91.]\n",
      " [108.]\n",
      " [107.]\n",
      " [112.]\n",
      " [116.]\n",
      " [118.]\n",
      " [103.]\n",
      " [116.]\n",
      " [118.]\n",
      " [ 96.]\n",
      " [111.]\n",
      " [119.]\n",
      " [ 94.]\n",
      " [ 92.]\n",
      " [ 97.]\n",
      " [ 91.]\n",
      " [ 87.]\n",
      " [ 64.]\n",
      " [ 94.]\n",
      " [ 92.]\n",
      " [ 58.]\n",
      " [ 14.]\n",
      " [ 23.]\n",
      " [ 15.]\n",
      " [ 99.]\n",
      " [ 50.]\n",
      " [ 71.]\n",
      " [ 75.]\n",
      " [ 73.]\n",
      " [ 83.]\n",
      " [ 70.]\n",
      " [ 72.]\n",
      " [ 75.]\n",
      " [ 79.]\n",
      " [ 81.]\n",
      " [ 80.]\n",
      " [ 80.]\n",
      " [ 72.]\n",
      " [ 75.]\n",
      " [ 73.]\n",
      " [ 80.]\n",
      " [ 80.]\n",
      " [ 81.]\n",
      " [ 70.]\n",
      " [ 57.]\n",
      " [ 69.]]\n"
     ]
    },
    {
     "data": {
      "text/plain": [
       "SVC(C=1000, break_ties=False, cache_size=200, class_weight=None, coef0=0.0,\n",
       "    decision_function_shape='ovr', degree=3, gamma='scale', kernel='rbf',\n",
       "    max_iter=-1, probability=False, random_state=None, shrinking=True,\n",
       "    tol=0.001, verbose=False)"
      ]
     },
     "execution_count": 3,
     "metadata": {},
     "output_type": "execute_result"
    }
   ],
   "source": [
    "from sklearn import svm\n",
    "import numpy as np\n",
    "\n",
    "raw_label = dataset.label.unique()\n",
    "label = []\n",
    "label_idx = []\n",
    "\n",
    "for i in range(len(raw_label)) :\n",
    "    label.append(raw_label[i])\n",
    "    label_idx.append(i)\n",
    "\n",
    "\n",
    "value = []\n",
    "value_label = []\n",
    "for i in range(len(dataset)) :\n",
    "    #dummy = []\n",
    "    #dummy.append(label.index(dataset[\"label\"][i]))\n",
    "    #dummy.append(dataset[\"value\"][i])\n",
    "    value_label.append(label.index(dataset[\"label\"][i]))\n",
    "    value.append(dataset[\"value\"][i])\n",
    " \n",
    "print(value_label)\n",
    "clf = svm.SVC(C=1000, decision_function_shape='ovr')\n",
    "#clf = svm.LinearSVC()\n",
    "value = np.reshape(value, (-1, 1))\n",
    "print(value)\n",
    "clf.fit(value, value_label)"
   ]
  },
  {
   "cell_type": "code",
   "execution_count": 4,
   "id": "primary-publication",
   "metadata": {},
   "outputs": [
    {
     "data": {
      "text/plain": [
       "['result_new.joblib']"
      ]
     },
     "execution_count": 4,
     "metadata": {},
     "output_type": "execute_result"
    }
   ],
   "source": [
    "from joblib import dump\n",
    "\n",
    "dump(clf, 'result_new.joblib') "
   ]
  },
  {
   "cell_type": "code",
   "execution_count": null,
   "id": "found-spending",
   "metadata": {},
   "outputs": [],
   "source": []
  }
 ],
 "metadata": {
  "kernelspec": {
   "display_name": "Python 3",
   "language": "python",
   "name": "python3"
  },
  "language_info": {
   "codemirror_mode": {
    "name": "ipython",
    "version": 3
   },
   "file_extension": ".py",
   "mimetype": "text/x-python",
   "name": "python",
   "nbconvert_exporter": "python",
   "pygments_lexer": "ipython3",
   "version": "3.7.9"
  }
 },
 "nbformat": 4,
 "nbformat_minor": 5
}
